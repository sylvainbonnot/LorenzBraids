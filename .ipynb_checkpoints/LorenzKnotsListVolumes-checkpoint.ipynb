{
 "cells": [
  {
   "cell_type": "markdown",
   "metadata": {
    "toc": "true"
   },
   "source": [
    " # Table of Contents\n",
    "<div class=\"toc\" style=\"margin-top: 1em;\"><ul class=\"toc-item\" id=\"toc-level0\"><li><span><a href=\"http://localhost:8888/notebooks/LorenzKnotsListVolumes.ipynb#Generating-lists-of-words,-by-length\" data-toc-modified-id=\"Generating-lists-of-words,-by-length-1\"><span class=\"toc-item-num\">1&nbsp;&nbsp;</span>Generating lists of words, by length</a></span></li><li><span><a href=\"http://localhost:8888/notebooks/LorenzKnotsListVolumes.ipynb#Working-with-snappy-within-python\" data-toc-modified-id=\"Working-with-snappy-within-python-2\"><span class=\"toc-item-num\">2&nbsp;&nbsp;</span>Working with snappy within python</a></span></li><li><span><a href=\"http://localhost:8888/notebooks/LorenzKnotsListVolumes.ipynb#Produce-list-of-volumes-of-braid-complements\" data-toc-modified-id=\"Produce-list-of-volumes-of-braid-complements-3\"><span class=\"toc-item-num\">3&nbsp;&nbsp;</span>Produce list of volumes of braid complements</a></span></li></ul></div>"
   ]
  },
  {
   "cell_type": "code",
   "execution_count": 6,
   "metadata": {
    "ExecuteTime": {
     "end_time": "2019-08-14T17:12:52.831056Z",
     "start_time": "2019-08-14T17:12:52.771302Z"
    }
   },
   "outputs": [
    {
     "name": "stdout",
     "output_type": "stream",
     "text": [
      "The Lorenz Knot with word  LRLRRRLRRR  has Dowker code \n",
      " [ 38   8  20 -26  36   6  18  16 -30 -28 -10  -2  22  34  32 -14 -12  -4\n",
      " -24]\n",
      "The braid representation is: \n",
      "\n",
      "[4, 3, 7, 6, 5, 4, 8, 7, 6, 5, 2, 1, 0, 3, 2, 1, 4, 3, 2]\n"
     ]
    }
   ],
   "source": [
    "# Run directly the script LorenzKnots.py\n",
    "%run LorenzKnots.py"
   ]
  },
  {
   "cell_type": "code",
   "execution_count": 7,
   "metadata": {
    "ExecuteTime": {
     "end_time": "2019-08-14T17:13:05.447324Z",
     "start_time": "2019-08-14T17:13:05.436914Z"
    }
   },
   "outputs": [],
   "source": [
    "#Examples of LorenzKnots\n",
    "from LorenzKnots import *\n",
    "\n",
    "lk = LorenzKnot('LRLRRRLRRR')\n",
    "#lk2 = LorenzKnot('LRLRLRRRLRR')"
   ]
  },
  {
   "cell_type": "code",
   "execution_count": 8,
   "metadata": {
    "ExecuteTime": {
     "end_time": "2019-08-14T17:13:07.124571Z",
     "start_time": "2019-08-14T17:13:07.116784Z"
    }
   },
   "outputs": [
    {
     "data": {
      "text/plain": [
       "([],\n",
       " [(0, 5), (1, 8), (2, 9)],\n",
       " [(3, 0), (4, 1), (5, 2)],\n",
       " [(6, 3), (7, 4), (8, 6), (9, 7)])"
      ]
     },
     "execution_count": 8,
     "metadata": {},
     "output_type": "execute_result"
    }
   ],
   "source": [
    "lk.get_list_numerical_pairs()"
   ]
  },
  {
   "cell_type": "code",
   "execution_count": 10,
   "metadata": {
    "ExecuteTime": {
     "end_time": "2019-08-14T17:13:14.389993Z",
     "start_time": "2019-08-14T17:13:14.382869Z"
    }
   },
   "outputs": [
    {
     "data": {
      "text/plain": [
       "<LorenzKnots.LorenzKnot at 0x11f9b09e8>"
      ]
     },
     "execution_count": 10,
     "metadata": {},
     "output_type": "execute_result"
    }
   ],
   "source": [
    "lk.convert_to_braid()"
   ]
  },
  {
   "cell_type": "markdown",
   "metadata": {},
   "source": [
    "# Generating lists of words, by length"
   ]
  },
  {
   "cell_type": "markdown",
   "metadata": {},
   "source": [
    "We create all possible words in the letters L, R, of a given length."
   ]
  },
  {
   "cell_type": "code",
   "execution_count": 11,
   "metadata": {
    "ExecuteTime": {
     "end_time": "2019-08-14T17:13:36.308217Z",
     "start_time": "2019-08-14T17:13:36.250689Z"
    }
   },
   "outputs": [],
   "source": [
    "def is_periodic(word):\n",
    "    all_words =[]\n",
    "    for i,_ in enumerate(word):\n",
    "        all_words.append(word[i:]+word[:i])\n",
    "    return len(all_words)!=len(set(all_words))\n",
    "\n",
    "\n",
    "def minimal_rep(word):\n",
    "    all_words = []\n",
    "    for i,_ in enumerate(word):\n",
    "        all_words.append(word[i:]+word[:i])\n",
    "    return min(all_words)\n",
    "\n",
    "def word_reduce(list_words):\n",
    "    all_words=[minimal_rep(word) for word in list_words if not is_periodic(word)]\n",
    "    return sorted(set(all_words))"
   ]
  },
  {
   "cell_type": "code",
   "execution_count": 31,
   "metadata": {
    "ExecuteTime": {
     "end_time": "2019-08-14T17:19:28.156356Z",
     "start_time": "2019-08-14T17:19:28.145412Z"
    }
   },
   "outputs": [],
   "source": [
    "# Get all the words and reduce all the ones that are periodic\n",
    "from itertools import product\n",
    "\n",
    "\n",
    "L_comp = list(product(('L','R'), repeat = 9))\n",
    "L_comp_str = [\"\".join(item) for item in L_comp]\n",
    "\n",
    "L_comp_all=word_reduce(L_comp_str)"
   ]
  },
  {
   "cell_type": "code",
   "execution_count": 33,
   "metadata": {
    "ExecuteTime": {
     "end_time": "2019-08-14T17:19:47.738485Z",
     "start_time": "2019-08-14T17:19:47.732725Z"
    }
   },
   "outputs": [
    {
     "data": {
      "text/plain": [
       "(512, 56)"
      ]
     },
     "execution_count": 33,
     "metadata": {},
     "output_type": "execute_result"
    }
   ],
   "source": [
    "# Total number of words, total number of reduced words\n",
    "len(L_comp_str), len(L_comp_all)"
   ]
  },
  {
   "cell_type": "markdown",
   "metadata": {},
   "source": [
    "# Working with snappy within python "
   ]
  },
  {
   "cell_type": "code",
   "execution_count": 16,
   "metadata": {
    "ExecuteTime": {
     "end_time": "2019-08-14T17:13:59.442929Z",
     "start_time": "2019-08-14T17:13:59.437995Z"
    }
   },
   "outputs": [],
   "source": [
    "import snappy as sn\n",
    "from snappy import manifolds\n",
    "from spherogram.codecs import DT"
   ]
  },
  {
   "cell_type": "code",
   "execution_count": 27,
   "metadata": {
    "ExecuteTime": {
     "end_time": "2019-08-14T17:15:57.483712Z",
     "start_time": "2019-08-14T17:15:57.475531Z"
    }
   },
   "outputs": [
    {
     "data": {
      "text/plain": [
       "7.70691180281"
      ]
     },
     "execution_count": 27,
     "metadata": {},
     "output_type": "execute_result"
    }
   ],
   "source": [
    "# Example of a manifold created from a braid\n",
    "M = sn.Manifold('Braid[5, 4, 8, 7, 6, 5, 9, 8, 7, 6, 3, 2, 1, 4, 3, 2, 5, 4, 3]')\n",
    "M.volume()"
   ]
  },
  {
   "cell_type": "code",
   "execution_count": 30,
   "metadata": {
    "ExecuteTime": {
     "end_time": "2019-08-14T17:16:07.159335Z",
     "start_time": "2019-08-14T17:16:07.150068Z"
    }
   },
   "outputs": [
    {
     "data": {
      "text/plain": [
       "[Cusp 0 : complete torus cusp of shape 8.0000000000,\n",
       " Cusp 1 : complete torus cusp of shape 8.0000000000]"
      ]
     },
     "execution_count": 30,
     "metadata": {},
     "output_type": "execute_result"
    }
   ],
   "source": [
    "M=sn.Manifold('Braid[1, 2, 3, 4, 5, 6,7]')\n",
    "M.cusp_info()\n",
    "#M.dehn_fill((1,0), 1)"
   ]
  },
  {
   "cell_type": "markdown",
   "metadata": {
    "ExecuteTime": {
     "end_time": "2019-08-14T17:14:01.715755Z",
     "start_time": "2019-08-14T17:14:01.711286Z"
    }
   },
   "source": [
    "# Produce list of volumes of braid complements"
   ]
  },
  {
   "cell_type": "code",
   "execution_count": 34,
   "metadata": {
    "ExecuteTime": {
     "end_time": "2019-08-14T17:20:48.032081Z",
     "start_time": "2019-08-14T17:20:47.841213Z"
    }
   },
   "outputs": [
    {
     "name": "stdout",
     "output_type": "stream",
     "text": [
      "Braid[6, 7, 8, 3, 2, 1, 4, 3, 2, 5, 4, 3, 6, 5, 4, 7, 6, 5]\n",
      "Braid[6, 5, 7, 6, 8, 7, 3, 2, 1, 4, 3, 2, 5, 4, 3, 6, 5, 4]\n"
     ]
    }
   ],
   "source": [
    "# Output the braids producing positive volumes\n",
    "words = []\n",
    "vols = []\n",
    "precision = 1E-4\n",
    "for item in L_comp_all[0:]:\n",
    "    if is_periodic(item):\n",
    "        continue\n",
    "    lk = LorenzKnot(item)\n",
    "    lk.convert_to_braid()\n",
    "    word_braid=list(np.array(lk.braid)+1)\n",
    "    #word_braid = [5, 4, 8, 7, 6, 5, 9, 8, 7, 6, 3, 2, 1, 4, 3, 2, 5, 4, 3]\n",
    "    if len(word_braid)==0:\n",
    "        continue\n",
    "    words.append(item)\n",
    "    #print item\n",
    "    string_manifold = 'Braid'+str(word_braid)\n",
    "    #print string_manifold\n",
    "    M = sn.Manifold(string_manifold)\n",
    "    #print 'vol=', M.volume()\n",
    "    M.dehn_fill((1,0), 1)\n",
    "    vol = float('%.4f'%(M.volume()))\n",
    "    if abs(vol)<precision or vol<0:\n",
    "        vol=0\n",
    "    vols.append(vol)\n",
    "    if vol>1.0:\n",
    "        print(string_manifold)\n"
   ]
  },
  {
   "cell_type": "code",
   "execution_count": 35,
   "metadata": {
    "ExecuteTime": {
     "end_time": "2019-08-14T17:21:19.026835Z",
     "start_time": "2019-08-14T17:21:19.005357Z"
    }
   },
   "outputs": [
    {
     "data": {
      "text/html": [
       "<div>\n",
       "<style scoped>\n",
       "    .dataframe tbody tr th:only-of-type {\n",
       "        vertical-align: middle;\n",
       "    }\n",
       "\n",
       "    .dataframe tbody tr th {\n",
       "        vertical-align: top;\n",
       "    }\n",
       "\n",
       "    .dataframe thead th {\n",
       "        text-align: right;\n",
       "    }\n",
       "</style>\n",
       "<table border=\"1\" class=\"dataframe\">\n",
       "  <thead>\n",
       "    <tr style=\"text-align: right;\">\n",
       "      <th></th>\n",
       "      <th>Words</th>\n",
       "      <th>vols</th>\n",
       "    </tr>\n",
       "  </thead>\n",
       "  <tbody>\n",
       "    <tr>\n",
       "      <th>0</th>\n",
       "      <td>LLLLLLLLR</td>\n",
       "      <td>0.0000</td>\n",
       "    </tr>\n",
       "    <tr>\n",
       "      <th>1</th>\n",
       "      <td>LLLLLLLRR</td>\n",
       "      <td>0.0000</td>\n",
       "    </tr>\n",
       "    <tr>\n",
       "      <th>2</th>\n",
       "      <td>LLLLLLRLR</td>\n",
       "      <td>0.0000</td>\n",
       "    </tr>\n",
       "    <tr>\n",
       "      <th>3</th>\n",
       "      <td>LLLLLLRRR</td>\n",
       "      <td>0.0000</td>\n",
       "    </tr>\n",
       "    <tr>\n",
       "      <th>4</th>\n",
       "      <td>LLLLLRLLR</td>\n",
       "      <td>0.0000</td>\n",
       "    </tr>\n",
       "    <tr>\n",
       "      <th>5</th>\n",
       "      <td>LLLLLRLRR</td>\n",
       "      <td>0.0000</td>\n",
       "    </tr>\n",
       "    <tr>\n",
       "      <th>6</th>\n",
       "      <td>LLLLLRRLR</td>\n",
       "      <td>0.0000</td>\n",
       "    </tr>\n",
       "    <tr>\n",
       "      <th>7</th>\n",
       "      <td>LLLLLRRRR</td>\n",
       "      <td>0.0000</td>\n",
       "    </tr>\n",
       "    <tr>\n",
       "      <th>8</th>\n",
       "      <td>LLLLRLLLR</td>\n",
       "      <td>0.0000</td>\n",
       "    </tr>\n",
       "    <tr>\n",
       "      <th>9</th>\n",
       "      <td>LLLLRLLRR</td>\n",
       "      <td>0.0000</td>\n",
       "    </tr>\n",
       "    <tr>\n",
       "      <th>10</th>\n",
       "      <td>LLLLRLRLR</td>\n",
       "      <td>0.0000</td>\n",
       "    </tr>\n",
       "    <tr>\n",
       "      <th>11</th>\n",
       "      <td>LLLLRLRRR</td>\n",
       "      <td>0.0000</td>\n",
       "    </tr>\n",
       "    <tr>\n",
       "      <th>12</th>\n",
       "      <td>LLLLRRLLR</td>\n",
       "      <td>0.0000</td>\n",
       "    </tr>\n",
       "    <tr>\n",
       "      <th>13</th>\n",
       "      <td>LLLLRRLRR</td>\n",
       "      <td>0.0000</td>\n",
       "    </tr>\n",
       "    <tr>\n",
       "      <th>14</th>\n",
       "      <td>LLLLRRRLR</td>\n",
       "      <td>0.0000</td>\n",
       "    </tr>\n",
       "    <tr>\n",
       "      <th>15</th>\n",
       "      <td>LLLLRRRRR</td>\n",
       "      <td>0.0000</td>\n",
       "    </tr>\n",
       "    <tr>\n",
       "      <th>16</th>\n",
       "      <td>LLLRLLLRR</td>\n",
       "      <td>0.0000</td>\n",
       "    </tr>\n",
       "    <tr>\n",
       "      <th>17</th>\n",
       "      <td>LLLRLLRLR</td>\n",
       "      <td>0.0000</td>\n",
       "    </tr>\n",
       "    <tr>\n",
       "      <th>18</th>\n",
       "      <td>LLLRLLRRR</td>\n",
       "      <td>0.0000</td>\n",
       "    </tr>\n",
       "    <tr>\n",
       "      <th>19</th>\n",
       "      <td>LLLRLRLLR</td>\n",
       "      <td>0.0000</td>\n",
       "    </tr>\n",
       "    <tr>\n",
       "      <th>20</th>\n",
       "      <td>LLLRLRLRR</td>\n",
       "      <td>0.0000</td>\n",
       "    </tr>\n",
       "    <tr>\n",
       "      <th>21</th>\n",
       "      <td>LLLRLRRLR</td>\n",
       "      <td>0.0000</td>\n",
       "    </tr>\n",
       "    <tr>\n",
       "      <th>22</th>\n",
       "      <td>LLLRLRRRR</td>\n",
       "      <td>0.0000</td>\n",
       "    </tr>\n",
       "    <tr>\n",
       "      <th>23</th>\n",
       "      <td>LLLRRLLRR</td>\n",
       "      <td>0.0000</td>\n",
       "    </tr>\n",
       "    <tr>\n",
       "      <th>24</th>\n",
       "      <td>LLLRRLRLR</td>\n",
       "      <td>0.0000</td>\n",
       "    </tr>\n",
       "    <tr>\n",
       "      <th>25</th>\n",
       "      <td>LLLRRLRRR</td>\n",
       "      <td>0.0000</td>\n",
       "    </tr>\n",
       "    <tr>\n",
       "      <th>26</th>\n",
       "      <td>LLLRRRLLR</td>\n",
       "      <td>0.0000</td>\n",
       "    </tr>\n",
       "    <tr>\n",
       "      <th>27</th>\n",
       "      <td>LLLRRRLRR</td>\n",
       "      <td>0.0000</td>\n",
       "    </tr>\n",
       "    <tr>\n",
       "      <th>28</th>\n",
       "      <td>LLLRRRRLR</td>\n",
       "      <td>0.0000</td>\n",
       "    </tr>\n",
       "    <tr>\n",
       "      <th>29</th>\n",
       "      <td>LLLRRRRRR</td>\n",
       "      <td>0.0000</td>\n",
       "    </tr>\n",
       "    <tr>\n",
       "      <th>30</th>\n",
       "      <td>LLRLLRLRR</td>\n",
       "      <td>0.0000</td>\n",
       "    </tr>\n",
       "    <tr>\n",
       "      <th>31</th>\n",
       "      <td>LLRLLRRLR</td>\n",
       "      <td>0.0000</td>\n",
       "    </tr>\n",
       "    <tr>\n",
       "      <th>32</th>\n",
       "      <td>LLRLLRRRR</td>\n",
       "      <td>0.0000</td>\n",
       "    </tr>\n",
       "    <tr>\n",
       "      <th>33</th>\n",
       "      <td>LLRLRLLRR</td>\n",
       "      <td>2.8281</td>\n",
       "    </tr>\n",
       "    <tr>\n",
       "      <th>34</th>\n",
       "      <td>LLRLRLRLR</td>\n",
       "      <td>0.0000</td>\n",
       "    </tr>\n",
       "    <tr>\n",
       "      <th>35</th>\n",
       "      <td>LLRLRLRRR</td>\n",
       "      <td>0.0000</td>\n",
       "    </tr>\n",
       "    <tr>\n",
       "      <th>36</th>\n",
       "      <td>LLRLRRLRR</td>\n",
       "      <td>0.0000</td>\n",
       "    </tr>\n",
       "    <tr>\n",
       "      <th>37</th>\n",
       "      <td>LLRLRRRLR</td>\n",
       "      <td>0.0000</td>\n",
       "    </tr>\n",
       "    <tr>\n",
       "      <th>38</th>\n",
       "      <td>LLRLRRRRR</td>\n",
       "      <td>0.0000</td>\n",
       "    </tr>\n",
       "    <tr>\n",
       "      <th>39</th>\n",
       "      <td>LLRRLLRRR</td>\n",
       "      <td>0.0000</td>\n",
       "    </tr>\n",
       "    <tr>\n",
       "      <th>40</th>\n",
       "      <td>LLRRLRLRR</td>\n",
       "      <td>2.8281</td>\n",
       "    </tr>\n",
       "    <tr>\n",
       "      <th>41</th>\n",
       "      <td>LLRRLRRLR</td>\n",
       "      <td>0.0000</td>\n",
       "    </tr>\n",
       "    <tr>\n",
       "      <th>42</th>\n",
       "      <td>LLRRLRRRR</td>\n",
       "      <td>0.0000</td>\n",
       "    </tr>\n",
       "    <tr>\n",
       "      <th>43</th>\n",
       "      <td>LLRRRLRLR</td>\n",
       "      <td>0.0000</td>\n",
       "    </tr>\n",
       "    <tr>\n",
       "      <th>44</th>\n",
       "      <td>LLRRRLRRR</td>\n",
       "      <td>0.0000</td>\n",
       "    </tr>\n",
       "    <tr>\n",
       "      <th>45</th>\n",
       "      <td>LLRRRRLRR</td>\n",
       "      <td>0.0000</td>\n",
       "    </tr>\n",
       "    <tr>\n",
       "      <th>46</th>\n",
       "      <td>LLRRRRRLR</td>\n",
       "      <td>0.0000</td>\n",
       "    </tr>\n",
       "    <tr>\n",
       "      <th>47</th>\n",
       "      <td>LLRRRRRRR</td>\n",
       "      <td>0.0000</td>\n",
       "    </tr>\n",
       "    <tr>\n",
       "      <th>48</th>\n",
       "      <td>LRLRLRLRR</td>\n",
       "      <td>0.0000</td>\n",
       "    </tr>\n",
       "    <tr>\n",
       "      <th>49</th>\n",
       "      <td>LRLRLRRRR</td>\n",
       "      <td>0.0000</td>\n",
       "    </tr>\n",
       "    <tr>\n",
       "      <th>50</th>\n",
       "      <td>LRLRRLRRR</td>\n",
       "      <td>0.0000</td>\n",
       "    </tr>\n",
       "    <tr>\n",
       "      <th>51</th>\n",
       "      <td>LRLRRRLRR</td>\n",
       "      <td>0.0000</td>\n",
       "    </tr>\n",
       "    <tr>\n",
       "      <th>52</th>\n",
       "      <td>LRLRRRRRR</td>\n",
       "      <td>0.0000</td>\n",
       "    </tr>\n",
       "    <tr>\n",
       "      <th>53</th>\n",
       "      <td>LRRLRRRRR</td>\n",
       "      <td>0.0000</td>\n",
       "    </tr>\n",
       "    <tr>\n",
       "      <th>54</th>\n",
       "      <td>LRRRLRRRR</td>\n",
       "      <td>0.0000</td>\n",
       "    </tr>\n",
       "    <tr>\n",
       "      <th>55</th>\n",
       "      <td>LRRRRRRRR</td>\n",
       "      <td>0.0000</td>\n",
       "    </tr>\n",
       "  </tbody>\n",
       "</table>\n",
       "</div>"
      ],
      "text/plain": [
       "        Words    vols\n",
       "0   LLLLLLLLR  0.0000\n",
       "1   LLLLLLLRR  0.0000\n",
       "2   LLLLLLRLR  0.0000\n",
       "3   LLLLLLRRR  0.0000\n",
       "4   LLLLLRLLR  0.0000\n",
       "5   LLLLLRLRR  0.0000\n",
       "6   LLLLLRRLR  0.0000\n",
       "7   LLLLLRRRR  0.0000\n",
       "8   LLLLRLLLR  0.0000\n",
       "9   LLLLRLLRR  0.0000\n",
       "10  LLLLRLRLR  0.0000\n",
       "11  LLLLRLRRR  0.0000\n",
       "12  LLLLRRLLR  0.0000\n",
       "13  LLLLRRLRR  0.0000\n",
       "14  LLLLRRRLR  0.0000\n",
       "15  LLLLRRRRR  0.0000\n",
       "16  LLLRLLLRR  0.0000\n",
       "17  LLLRLLRLR  0.0000\n",
       "18  LLLRLLRRR  0.0000\n",
       "19  LLLRLRLLR  0.0000\n",
       "20  LLLRLRLRR  0.0000\n",
       "21  LLLRLRRLR  0.0000\n",
       "22  LLLRLRRRR  0.0000\n",
       "23  LLLRRLLRR  0.0000\n",
       "24  LLLRRLRLR  0.0000\n",
       "25  LLLRRLRRR  0.0000\n",
       "26  LLLRRRLLR  0.0000\n",
       "27  LLLRRRLRR  0.0000\n",
       "28  LLLRRRRLR  0.0000\n",
       "29  LLLRRRRRR  0.0000\n",
       "30  LLRLLRLRR  0.0000\n",
       "31  LLRLLRRLR  0.0000\n",
       "32  LLRLLRRRR  0.0000\n",
       "33  LLRLRLLRR  2.8281\n",
       "34  LLRLRLRLR  0.0000\n",
       "35  LLRLRLRRR  0.0000\n",
       "36  LLRLRRLRR  0.0000\n",
       "37  LLRLRRRLR  0.0000\n",
       "38  LLRLRRRRR  0.0000\n",
       "39  LLRRLLRRR  0.0000\n",
       "40  LLRRLRLRR  2.8281\n",
       "41  LLRRLRRLR  0.0000\n",
       "42  LLRRLRRRR  0.0000\n",
       "43  LLRRRLRLR  0.0000\n",
       "44  LLRRRLRRR  0.0000\n",
       "45  LLRRRRLRR  0.0000\n",
       "46  LLRRRRRLR  0.0000\n",
       "47  LLRRRRRRR  0.0000\n",
       "48  LRLRLRLRR  0.0000\n",
       "49  LRLRLRRRR  0.0000\n",
       "50  LRLRRLRRR  0.0000\n",
       "51  LRLRRRLRR  0.0000\n",
       "52  LRLRRRRRR  0.0000\n",
       "53  LRRLRRRRR  0.0000\n",
       "54  LRRRLRRRR  0.0000\n",
       "55  LRRRRRRRR  0.0000"
      ]
     },
     "execution_count": 35,
     "metadata": {},
     "output_type": "execute_result"
    }
   ],
   "source": [
    "# Pretty-print the words for the braids and the corresponding volumes\n",
    "import pandas as pd\n",
    "res = pd.DataFrame()\n",
    "res['Words']=words\n",
    "res['vols']=vols\n",
    "res"
   ]
  },
  {
   "cell_type": "code",
   "execution_count": 36,
   "metadata": {
    "ExecuteTime": {
     "end_time": "2019-08-14T17:21:41.300214Z",
     "start_time": "2019-08-14T17:21:41.291814Z"
    }
   },
   "outputs": [
    {
     "data": {
      "text/plain": [
       "array([0.    , 2.8281])"
      ]
     },
     "execution_count": 36,
     "metadata": {},
     "output_type": "execute_result"
    }
   ],
   "source": [
    "# What are all the volume values encountered? \n",
    "np.unique(np.array(vols))"
   ]
  },
  {
   "cell_type": "code",
   "execution_count": null,
   "metadata": {},
   "outputs": [],
   "source": []
  }
 ],
 "metadata": {
  "hide_input": false,
  "kernelspec": {
   "display_name": "Python (otopy37)",
   "language": "python",
   "name": "otopy37"
  },
  "language_info": {
   "codemirror_mode": {
    "name": "ipython",
    "version": 3
   },
   "file_extension": ".py",
   "mimetype": "text/x-python",
   "name": "python",
   "nbconvert_exporter": "python",
   "pygments_lexer": "ipython3",
   "version": "3.7.3"
  },
  "latex_envs": {
   "LaTeX_envs_menu_present": true,
   "autocomplete": true,
   "bibliofile": "biblio.bib",
   "cite_by": "apalike",
   "current_citInitial": 1,
   "eqLabelWithNumbers": true,
   "eqNumInitial": 1,
   "hotkeys": {
    "equation": "Ctrl-E",
    "itemize": "Ctrl-I"
   },
   "labels_anchors": false,
   "latex_user_defs": false,
   "report_style_numbering": false,
   "user_envs_cfg": false
  },
  "toc": {
   "nav_menu": {},
   "number_sections": true,
   "sideBar": false,
   "skip_h1_title": false,
   "toc_cell": true,
   "toc_position": {},
   "toc_section_display": "block",
   "toc_window_display": false
  }
 },
 "nbformat": 4,
 "nbformat_minor": 1
}
