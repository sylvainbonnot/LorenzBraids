{
 "cells": [
  {
   "cell_type": "markdown",
   "metadata": {
    "toc": "true"
   },
   "source": [
    " # Table of Contents\n",
    "<div class=\"toc\" style=\"margin-top: 1em;\"><ul class=\"toc-item\" id=\"toc-level0\"><li><span><a href=\"http://localhost:8888/notebooks/Dropbox/LorenzKnots/LorenzKnots.ipynb#Doing-the-braids-version\" data-toc-modified-id=\"Doing-the-braids-version-1\"><span class=\"toc-item-num\">1&nbsp;&nbsp;</span>Doing the braids version</a></span></li><li><span><a href=\"http://localhost:8888/notebooks/Dropbox/LorenzKnots/LorenzKnots.ipynb#Trying-other-libraries\" data-toc-modified-id=\"Trying-other-libraries-2\"><span class=\"toc-item-num\">2&nbsp;&nbsp;</span>Trying other libraries</a></span></li><li><span><a href=\"http://localhost:8888/notebooks/Dropbox/LorenzKnots/LorenzKnots.ipynb#Trying-snappy-from-python\" data-toc-modified-id=\"Trying-snappy-from-python-3\"><span class=\"toc-item-num\">3&nbsp;&nbsp;</span>Trying snappy from python</a></span></li><li><span><a href=\"http://localhost:8888/notebooks/Dropbox/LorenzKnots/LorenzKnots.ipynb#Full-code-for-LorenzKnot.py\" data-toc-modified-id=\"Full-code-for-LorenzKnot.py-4\"><span class=\"toc-item-num\">4&nbsp;&nbsp;</span>Full code for LorenzKnot.py</a></span></li></ul></div>"
   ]
  },
  {
   "cell_type": "code",
   "execution_count": 1,
   "metadata": {
    "ExecuteTime": {
     "end_time": "2018-06-13T20:28:32.339963Z",
     "start_time": "2018-06-13T20:28:32.332688Z"
    }
   },
   "outputs": [],
   "source": [
    "import sys\n",
    "sys.path.append('/usr/local/lib/python2.7/site-packages')"
   ]
  },
  {
   "cell_type": "code",
   "execution_count": 2,
   "metadata": {
    "ExecuteTime": {
     "end_time": "2018-06-13T20:28:37.735600Z",
     "start_time": "2018-06-13T20:28:36.861219Z"
    }
   },
   "outputs": [],
   "source": [
    "#Examples of LorenzKnots\n",
    "from LorenzKnots import *\n",
    "\n",
    "lk = LorenzKnot('LRLRRRLRRR')\n",
    "lk2 = LorenzKnot('LRRLR')"
   ]
  },
  {
   "cell_type": "code",
   "execution_count": 3,
   "metadata": {
    "ExecuteTime": {
     "end_time": "2018-06-02T20:10:30.735149Z",
     "start_time": "2018-06-02T20:10:30.725861Z"
    }
   },
   "outputs": [
    {
     "name": "stdout",
     "output_type": "stream",
     "text": [
      "[12, 10, -2, 4, -8, -6]\n"
     ]
    }
   ],
   "source": [
    "print list(lk2.dowker_code())"
   ]
  },
  {
   "cell_type": "code",
   "execution_count": 19,
   "metadata": {
    "ExecuteTime": {
     "end_time": "2018-06-02T20:06:19.240969Z",
     "start_time": "2018-06-02T20:06:19.230040Z"
    }
   },
   "outputs": [
    {
     "data": {
      "text/plain": [
       "[(0, 5),\n",
       " (5, 2),\n",
       " (2, 9),\n",
       " (9, 7),\n",
       " (7, 4),\n",
       " (4, 1),\n",
       " (1, 8),\n",
       " (8, 6),\n",
       " (6, 3),\n",
       " (3, 0)]"
      ]
     },
     "execution_count": 19,
     "metadata": {},
     "output_type": "execute_result"
    }
   ],
   "source": [
    "# Give the list of strands forming the braid\n",
    "lk.list_strands()"
   ]
  },
  {
   "cell_type": "code",
   "execution_count": 20,
   "metadata": {
    "ExecuteTime": {
     "end_time": "2018-06-02T20:07:11.507994Z",
     "start_time": "2018-06-02T20:07:11.496557Z"
    }
   },
   "outputs": [
    {
     "data": {
      "text/plain": [
       "['LR', 'RL', 'LR', 'RR', 'RR', 'RL', 'LR', 'RR', 'RR', 'RL']"
      ]
     },
     "execution_count": 20,
     "metadata": {},
     "output_type": "execute_result"
    }
   ],
   "source": [
    "#For each strand, say if it goes from Left to Right, or Left to Left etc...\n",
    "lk.list_symbols_strands()"
   ]
  },
  {
   "cell_type": "code",
   "execution_count": 21,
   "metadata": {
    "ExecuteTime": {
     "end_time": "2018-06-02T20:07:32.144404Z",
     "start_time": "2018-06-02T20:07:32.120964Z"
    }
   },
   "outputs": [
    {
     "data": {
      "text/plain": [
       "[((0, 5), (3, 0)),\n",
       " ((0, 5), (4, 1)),\n",
       " ((0, 5), (5, 2)),\n",
       " ((0, 5), (6, 3)),\n",
       " ((0, 5), (7, 4)),\n",
       " ((5, 2), (2, 9)),\n",
       " ((5, 2), (1, 8)),\n",
       " ((5, 2), (0, 5)),\n",
       " ((2, 9), (3, 0)),\n",
       " ((2, 9), (4, 1)),\n",
       " ((2, 9), (5, 2)),\n",
       " ((2, 9), (6, 3)),\n",
       " ((2, 9), (7, 4)),\n",
       " ((2, 9), (8, 6)),\n",
       " ((2, 9), (9, 7)),\n",
       " ((9, 7), (2, 9)),\n",
       " ((9, 7), (1, 8)),\n",
       " ((7, 4), (2, 9)),\n",
       " ((7, 4), (1, 8)),\n",
       " ((7, 4), (0, 5)),\n",
       " ((4, 1), (2, 9)),\n",
       " ((4, 1), (1, 8)),\n",
       " ((4, 1), (0, 5)),\n",
       " ((1, 8), (3, 0)),\n",
       " ((1, 8), (4, 1)),\n",
       " ((1, 8), (5, 2)),\n",
       " ((1, 8), (6, 3)),\n",
       " ((1, 8), (7, 4)),\n",
       " ((1, 8), (8, 6)),\n",
       " ((1, 8), (9, 7)),\n",
       " ((8, 6), (2, 9)),\n",
       " ((8, 6), (1, 8)),\n",
       " ((6, 3), (2, 9)),\n",
       " ((6, 3), (1, 8)),\n",
       " ((6, 3), (0, 5)),\n",
       " ((3, 0), (2, 9)),\n",
       " ((3, 0), (1, 8)),\n",
       " ((3, 0), (0, 5))]"
      ]
     },
     "execution_count": 21,
     "metadata": {},
     "output_type": "execute_result"
    }
   ],
   "source": [
    "# Pairs of crossing strands\n",
    "all_crossings = lk.list_of_crossings_pairs()\n",
    "all_crossings"
   ]
  },
  {
   "cell_type": "markdown",
   "metadata": {},
   "source": [
    "# Doing the braids version"
   ]
  },
  {
   "cell_type": "code",
   "execution_count": 5,
   "metadata": {},
   "outputs": [
    {
     "ename": "TypeError",
     "evalue": "crossing() takes exactly 2 arguments (1 given)",
     "output_type": "error",
     "traceback": [
      "\u001b[1;31m---------------------------------------------------------------------------\u001b[0m",
      "\u001b[1;31mTypeError\u001b[0m                                 Traceback (most recent call last)",
      "\u001b[1;32m<ipython-input-5-8f5b421e4fcf>\u001b[0m in \u001b[0;36m<module>\u001b[1;34m()\u001b[0m\n\u001b[1;32m----> 1\u001b[1;33m \u001b[0mlk2\u001b[0m\u001b[1;33m.\u001b[0m\u001b[0mcrossing\u001b[0m\u001b[1;33m(\u001b[0m\u001b[1;33m)\u001b[0m\u001b[1;33m\u001b[0m\u001b[0m\n\u001b[0m",
      "\u001b[1;31mTypeError\u001b[0m: crossing() takes exactly 2 arguments (1 given)"
     ]
    }
   ],
   "source": [
    "lk2.crossing()"
   ]
  },
  {
   "cell_type": "code",
   "execution_count": null,
   "metadata": {
    "collapsed": true
   },
   "outputs": [],
   "source": []
  },
  {
   "cell_type": "markdown",
   "metadata": {
    "ExecuteTime": {
     "end_time": "2018-06-02T16:43:05.954639Z",
     "start_time": "2018-06-02T16:43:04.172Z"
    }
   },
   "source": [
    "# Trying other libraries "
   ]
  },
  {
   "cell_type": "code",
   "execution_count": 22,
   "metadata": {
    "ExecuteTime": {
     "end_time": "2018-06-02T20:08:22.161512Z",
     "start_time": "2018-06-02T20:08:22.016676Z"
    },
    "collapsed": true
   },
   "outputs": [],
   "source": [
    "import pyknotid\n",
    "from pyknotid.representations.dtnotation import DTNotation"
   ]
  },
  {
   "cell_type": "code",
   "execution_count": 27,
   "metadata": {
    "ExecuteTime": {
     "end_time": "2018-06-02T20:10:49.363966Z",
     "start_time": "2018-06-02T20:10:49.358412Z"
    },
    "collapsed": true
   },
   "outputs": [],
   "source": [
    "d = DTNotation([38, 8, 20, -26, 36, 6, 18, 16, -30, -28, -10, -2, 22, 34, 32, -14, -12, -4, -24])"
   ]
  },
  {
   "cell_type": "code",
   "execution_count": 28,
   "metadata": {
    "ExecuteTime": {
     "end_time": "2018-06-02T20:10:50.516707Z",
     "start_time": "2018-06-02T20:10:50.493874Z"
    }
   },
   "outputs": [
    {
     "ename": "ValueError",
     "evalue": "DTNotation -> GaussCode does not yet work with links",
     "output_type": "error",
     "traceback": [
      "\u001b[0;31m---------------------------------------------------------------------------\u001b[0m",
      "\u001b[0;31mValueError\u001b[0m                                Traceback (most recent call last)",
      "\u001b[0;32m<ipython-input-28-617d01126398>\u001b[0m in \u001b[0;36m<module>\u001b[0;34m()\u001b[0m\n\u001b[0;32m----> 1\u001b[0;31m \u001b[0md\u001b[0m\u001b[0;34m.\u001b[0m\u001b[0mgauss_code_string\u001b[0m\u001b[0;34m(\u001b[0m\u001b[0;34m)\u001b[0m\u001b[0;34m\u001b[0m\u001b[0m\n\u001b[0m",
      "\u001b[0;32m/usr/local/lib/python2.7/site-packages/pyknotid/representations/dtnotation.pyc\u001b[0m in \u001b[0;36mgauss_code_string\u001b[0;34m(self)\u001b[0m\n\u001b[1;32m     67\u001b[0m         '''\n\u001b[1;32m     68\u001b[0m         \u001b[0;32mif\u001b[0m \u001b[0mlen\u001b[0m\u001b[0;34m(\u001b[0m\u001b[0mself\u001b[0m\u001b[0;34m.\u001b[0m\u001b[0m_dt\u001b[0m\u001b[0;34m)\u001b[0m \u001b[0;34m>\u001b[0m \u001b[0;36m1\u001b[0m\u001b[0;34m:\u001b[0m\u001b[0;34m\u001b[0m\u001b[0m\n\u001b[0;32m---> 69\u001b[0;31m             raise ValueError('DTNotation -> GaussCode does not yet '\n\u001b[0m\u001b[1;32m     70\u001b[0m                              'work with links')\n\u001b[1;32m     71\u001b[0m \u001b[0;34m\u001b[0m\u001b[0m\n",
      "\u001b[0;31mValueError\u001b[0m: DTNotation -> GaussCode does not yet work with links"
     ]
    }
   ],
   "source": [
    "d.gauss_code_string()"
   ]
  },
  {
   "cell_type": "code",
   "execution_count": null,
   "metadata": {
    "collapsed": true
   },
   "outputs": [],
   "source": []
  },
  {
   "cell_type": "code",
   "execution_count": null,
   "metadata": {
    "ExecuteTime": {
     "end_time": "2018-06-02T16:43:05.967720Z",
     "start_time": "2018-06-02T16:43:04.205Z"
    },
    "collapsed": true
   },
   "outputs": [],
   "source": [
    "#http://jorgeatorres.github.io/knot-that-easy/"
   ]
  },
  {
   "cell_type": "markdown",
   "metadata": {},
   "source": [
    "# Trying snappy from python"
   ]
  },
  {
   "cell_type": "code",
   "execution_count": 3,
   "metadata": {
    "ExecuteTime": {
     "end_time": "2018-06-12T15:50:37.029278Z",
     "start_time": "2018-06-12T15:50:30.743116Z"
    }
   },
   "outputs": [],
   "source": [
    "import snappy as sn\n",
    "from snappy import manifolds\n",
    "from spherogram.codecs import DT"
   ]
  },
  {
   "cell_type": "code",
   "execution_count": 5,
   "metadata": {
    "ExecuteTime": {
     "end_time": "2018-06-12T15:51:37.720374Z",
     "start_time": "2018-06-12T15:51:37.647934Z"
    }
   },
   "outputs": [],
   "source": [
    "M = sn.Manifold('Braid[5, 4, 8, 7, 6, 5, 9, 8, 7, 6, 3, 2, 1, 4, 3, 2, 5, 4, 3]')"
   ]
  },
  {
   "cell_type": "code",
   "execution_count": null,
   "metadata": {
    "ExecuteTime": {
     "end_time": "2018-06-02T16:43:05.981434Z",
     "start_time": "2018-06-02T16:43:04.232Z"
    },
    "collapsed": true
   },
   "outputs": [],
   "source": [
    "#M = sn.Manifold('DT:[(6,4,-10,-8,12,-2)],[1,1,0,0,1,1]')"
   ]
  },
  {
   "cell_type": "code",
   "execution_count": 6,
   "metadata": {
    "ExecuteTime": {
     "end_time": "2018-06-12T15:51:42.153769Z",
     "start_time": "2018-06-12T15:51:42.052477Z"
    }
   },
   "outputs": [
    {
     "data": {
      "text/plain": [
       "7.70691180281"
      ]
     },
     "execution_count": 6,
     "metadata": {},
     "output_type": "execute_result"
    }
   ],
   "source": [
    "M.volume()"
   ]
  },
  {
   "cell_type": "code",
   "execution_count": 25,
   "metadata": {
    "ExecuteTime": {
     "end_time": "2018-06-02T16:47:12.076808Z",
     "start_time": "2018-06-02T16:47:12.069913Z"
    },
    "collapsed": true
   },
   "outputs": [],
   "source": [
    "#d = DT.DTcodec([(12,10,-2,4,-8,-6)],[1,1,1,0,1,1])\n",
    "#A = d.encode()"
   ]
  },
  {
   "cell_type": "code",
   "execution_count": null,
   "metadata": {
    "ExecuteTime": {
     "start_time": "2018-06-02T16:47:51.667Z"
    },
    "collapsed": true
   },
   "outputs": [],
   "source": [
    "#M = sn.Manifold('DT:faffeAbDC.111011')"
   ]
  },
  {
   "cell_type": "code",
   "execution_count": 10,
   "metadata": {
    "ExecuteTime": {
     "end_time": "2018-06-12T15:55:03.316775Z",
     "start_time": "2018-06-12T15:55:03.276670Z"
    }
   },
   "outputs": [
    {
     "data": {
      "text/plain": [
       "[Cusp 0 : complete torus cusp of shape 19.79443057 + 1.33091390*I,\n",
       " Cusp 1 : complete torus cusp of shape 4.8173674074 + 0.4869182181*I]"
      ]
     },
     "execution_count": 10,
     "metadata": {},
     "output_type": "execute_result"
    }
   ],
   "source": [
    "M.cusp_info()"
   ]
  },
  {
   "cell_type": "code",
   "execution_count": 11,
   "metadata": {
    "ExecuteTime": {
     "end_time": "2018-06-12T15:56:10.664972Z",
     "start_time": "2018-06-12T15:56:10.659158Z"
    }
   },
   "outputs": [],
   "source": [
    "M.dehn_fill((1,0), 1)"
   ]
  },
  {
   "cell_type": "code",
   "execution_count": 12,
   "metadata": {
    "ExecuteTime": {
     "end_time": "2018-06-12T15:56:16.260694Z",
     "start_time": "2018-06-12T15:56:16.252127Z"
    }
   },
   "outputs": [
    {
     "data": {
      "text/plain": [
       "2.82812208833"
      ]
     },
     "execution_count": 12,
     "metadata": {},
     "output_type": "execute_result"
    }
   ],
   "source": [
    "M.volume()"
   ]
  },
  {
   "cell_type": "code",
   "execution_count": 14,
   "metadata": {
    "ExecuteTime": {
     "end_time": "2018-06-12T15:56:32.267329Z",
     "start_time": "2018-06-12T15:56:32.261780Z"
    }
   },
   "outputs": [
    {
     "name": "stdout",
     "output_type": "stream",
     "text": [
      "None\n"
     ]
    }
   ],
   "source": [
    "print M.DT_code()"
   ]
  },
  {
   "cell_type": "code",
   "execution_count": null,
   "metadata": {},
   "outputs": [],
   "source": []
  },
  {
   "cell_type": "markdown",
   "metadata": {},
   "source": [
    "# Full code for LorenzKnot.py"
   ]
  },
  {
   "cell_type": "code",
   "execution_count": 3,
   "metadata": {
    "ExecuteTime": {
     "end_time": "2018-06-13T20:28:46.605066Z",
     "start_time": "2018-06-13T20:28:44.961054Z"
    }
   },
   "outputs": [
    {
     "name": "stdout",
     "output_type": "stream",
     "text": [
      "The Lorenz Knot with word  LRLRRRLRRR  has Dowker code \n",
      "[ 38   8  20 -26  36   6  18  16 -30 -28 -10  -2  22  34  32 -14 -12  -4\n",
      " -24]\n",
      "[] [(0, 3), (1, 4), (2, 5)] [(3, 0), (4, 1), (5, 2)] [(6, 6), (7, 7), (8, 8), (9, 9)]\n",
      "[] [(0, 0), (1, 1), (2, 2)] [(3, 3), (4, 4), (5, 5)] [(6, 6), (7, 7), (8, 8), (9, 9)]\n",
      "[4, 3, 7, 6, 5, 4, 8, 7, 6, 5, 2, 1, 0, 3, 2, 1, 4, 3, 2]\n"
     ]
    }
   ],
   "source": [
    "from collections import OrderedDict\n",
    "import numpy as np\n",
    "\n",
    "\n",
    "def start(pair):\n",
    "    return pair[0]\n",
    "\n",
    "def end(pair):\n",
    "    return pair[1]\n",
    "\n",
    "def crossing_symbol(pair, symbol):\n",
    "    crossings = []\n",
    "    if symbol=='LL':\n",
    "        for item in list_RL:\n",
    "            if end(item)<end(pair):\n",
    "                crossings.append(1)\n",
    "    if symbol=='LR':\n",
    "        for item in list_RL:\n",
    "            crossings.append(1)\n",
    "        for item in list_RR:\n",
    "            if end(item)<end(pair):\n",
    "                crossings.append(1)\n",
    "    if symbol=='RL':\n",
    "        for item in list_LR[::-1]:\n",
    "            crossings.append(0)\n",
    "        for item in list_LL[::-1]:\n",
    "            if end(item)>end(pair):\n",
    "                crossings.append(0)\n",
    "                \n",
    "    if symbol=='RR':\n",
    "        for item in list_LR[::-1]:\n",
    "            if end(item)>end(pair):\n",
    "                crossings.append(0)\n",
    "                \n",
    "    return crossings\n",
    "\n",
    "def word_to_cyclic_permutation(word):\n",
    "    res = []\n",
    "    for i in range(len(word)):\n",
    "        res.append(word[i:]+word[:i])\n",
    "    return sorted(res)\n",
    "\n",
    "def permuted_list(word):\n",
    "    lex_ordered_list = word_to_cyclic_permutation(word)\n",
    "    res = []\n",
    "    for item in lex_ordered_list:\n",
    "        res.append(cyclic_permute(item))\n",
    "    return res\n",
    "\n",
    "def cyclic_permute(word):\n",
    "    return word[1:]+word[:1]\n",
    "\n",
    "def reverse_dict(dic):\n",
    "    return dict(((value,key) for (key,value) in dic.items()))\n",
    "\n",
    "def pairs_crossing(word):\n",
    "    list_word = word_to_cyclic_permutation(word)\n",
    "    list_word2 = permuted_list(word)\n",
    "    list_LL =[]\n",
    "    list_LR = []\n",
    "    list_RL = []\n",
    "    list_RR = []\n",
    "    #res =[]\n",
    "    for a,b in zip(list_word, list_word2):\n",
    "        if a[0]=='L' and b[0]=='L':\n",
    "            list_LL.append((a,b))\n",
    "        elif a[0]=='L' and b[0]=='R':\n",
    "            list_LR.append((a,b))\n",
    "        elif a[0]=='R' and b[0]=='L':\n",
    "            list_RL.append((a,b))\n",
    "        elif a[0]=='R' and b[0]=='R':\n",
    "            list_RR.append((a,b))\n",
    "    return list_LL, list_LR, list_RL, list_RR\n",
    "\n",
    "def all_symbols_pairs(word):\n",
    "    double_word = word*2\n",
    "    pairs = [double_word[i:i+2] for i in range(len(word))]\n",
    "    return pairs\n",
    "\n",
    "def odd_order(pair):\n",
    "    a, b =pair\n",
    "    \n",
    "    if abs(a)%2==1:\n",
    "        return a,b\n",
    "    else:\n",
    "        return b,a\n",
    "\n",
    "class LorenzKnot():\n",
    "    def __init__(self, word):\n",
    "        self.word = word\n",
    "        self.first_word = word_to_cyclic_permutation(self.word)[0]\n",
    "        self.word_length = len(word)\n",
    "        self.list_LL, self.list_LR, self.list_RL, self.list_RR=pairs_crossing(self.first_word)\n",
    "        self.ll_num, self.lr_num, self.rl_num, self.rr_num = self.get_list_numerical_pairs()\n",
    "              \n",
    "        \n",
    "        \n",
    "    def list_lex_permutations(self):\n",
    "        return word_to_cyclic_permutation(self.word)\n",
    "    \n",
    "    def list_cyclic_permutations(self):\n",
    "        res = []\n",
    "        current = self.first_word\n",
    "        for i in range(self.word_length):\n",
    "            res.append(current)\n",
    "            current = cyclic_permute(current)\n",
    "        return res\n",
    "    \n",
    "    def dict_lex_permutations(self):\n",
    "        list_words = word_to_cyclic_permutation(self.word)\n",
    "        return dict(zip(list_words, range(len(list_words))))\n",
    "    \n",
    "    def rev_dict_lex_permutations(self):\n",
    "        return reverse_dict(self.dict_lex_permutations())\n",
    "    \n",
    "    def induced_permutation(self):\n",
    "        dd = self.dict_lex_permutations()\n",
    "        return [dd[cyclic_permute(item)] for item  in self.list_lex_permutations()]\n",
    "    \n",
    "    def integer_pairs(self):\n",
    "        return zip(range(self.word_length), self.induced_permutation())\n",
    "    \n",
    "    def path_knot(self):\n",
    "        list_cyclic = self.list_cyclic_permutations()\n",
    "        dd = self.dict_lex_permutations()\n",
    "\n",
    "        return [dd[item] for item in list_cyclic]\n",
    "     \n",
    "    def list_strands(self):\n",
    "        path = self.path_knot()\n",
    "        path.append(path[0])\n",
    "        return [(path[i], path[i+1]) for i in range(self.word_length)]\n",
    "    \n",
    "    def list_symbols_strands(self):\n",
    "        lstrands = self.list_strands()\n",
    "        rd = self.rev_dict_lex_permutations()\n",
    "        return [rd[item[0]][0]+rd[item[1]][0] for item in lstrands]\n",
    "\n",
    "    def crossing(self, integer_pair):\n",
    "        assert integer_pair in self.list_strands(), \"pair not allowed\"\n",
    "        \n",
    "    def get_list_numerical_pairs(self):\n",
    "        dd = self.dict_lex_permutations()\n",
    "        ll_num = [(dd[item[0]], dd[item[1]]) for item in self.list_LL]\n",
    "        lr_num = [(dd[item[0]], dd[item[1]]) for item in self.list_LR]\n",
    "        rl_num = [(dd[item[0]], dd[item[1]]) for item in self.list_RL]\n",
    "        rr_num = [(dd[item[0]], dd[item[1]]) for item in self.list_RR]\n",
    "        return ll_num, lr_num, rl_num, rr_num\n",
    "    \n",
    "    def sign_of_crossing(self):\n",
    "        d = {}\n",
    "        for first_pair in self.integer_pairs():\n",
    "            for second_pair in self.integer_pairs():\n",
    "                if (first_pair in self.ll_num and second_pair in self.rl_num):   \n",
    "                    if end(second_pair)<end(first_pair):\n",
    "                        d[(first_pair, second_pair)]=1\n",
    "                    else: \n",
    "                        d[(first_pair, second_pair)]=0\n",
    "                    continue\n",
    "                    \n",
    "                elif (first_pair in self.lr_num and second_pair in self.rl_num):   \n",
    "                    d[(first_pair, second_pair)]=1\n",
    "                    continue\n",
    "                elif (first_pair in self.lr_num and second_pair in self.rr_num):     \n",
    "                    if end(second_pair)<end(first_pair):\n",
    "                        d[(first_pair, second_pair)]=1\n",
    "                        continue\n",
    "                    else: \n",
    "                        d[(first_pair, second_pair)]=0\n",
    "                        continue\n",
    "                elif (first_pair in self.rl_num and second_pair in self.lr_num):     \n",
    "                    d[(first_pair, second_pair)]=-1\n",
    "                    continue\n",
    "                elif (first_pair in self.rl_num and second_pair in self.ll_num):     \n",
    "                    if end(second_pair)>end(first_pair):\n",
    "                        d[(first_pair, second_pair)]=-1\n",
    "                        continue\n",
    "                elif (first_pair in self.rr_num and second_pair in self.lr_num):     \n",
    "                    if end(second_pair)>end(first_pair):\n",
    "                        d[(first_pair, second_pair)]=-1\n",
    "                        continue\n",
    "                else:\n",
    "                     d[(first_pair, second_pair)]=0\n",
    "        return d\n",
    "    \n",
    "    def path_of_crossings(self):\n",
    "        d = self.sign_of_crossing()\n",
    "        l = self.list_strands()\n",
    "        init = l[0]\n",
    "        \n",
    "    def symbol(self):\n",
    "        d = {}\n",
    "        for i, strand in enumerate(self.list_strands()):\n",
    "            d[strand]=self.list_symbols_strands()[i]\n",
    "        return d\n",
    "                    \n",
    "    def crossing_symbol(self, pair, symbol):\n",
    "        crossings = []\n",
    "        if symbol=='LL':\n",
    "            for item in self.rl_num:\n",
    "                if end(item)<end(pair):\n",
    "                    crossings.append(1)\n",
    "        if symbol=='LR':\n",
    "            for item in self.rl_num:\n",
    "                crossings.append(1)\n",
    "            for item in self.rr_num:\n",
    "                if end(item)<end(pair):\n",
    "                    crossings.append(1)\n",
    "        if symbol=='RL':\n",
    "            for item in self.lr_num[::-1]:\n",
    "                crossings.append(0)\n",
    "            for item in self.ll_num[::-1]:\n",
    "                if end(item)>end(pair):\n",
    "                    crossings.append(0)\n",
    "                \n",
    "        if symbol=='RR':\n",
    "            for item in self.lr_num[::-1]:\n",
    "                if end(item)>end(pair):\n",
    "                    crossings.append(0)\n",
    "                \n",
    "        return crossings\n",
    "    \n",
    "    \n",
    "    def list_of_crossings_pairs(self):\n",
    "        d = self.symbol()\n",
    "        cross = self.sign_of_crossing()\n",
    "        res = []\n",
    "        for strand in self.list_strands():\n",
    "            if d[strand]=='LL':\n",
    "                for item in self.rl_num:\n",
    "                    if (strand, item) in cross.keys() and cross[strand, item]!=0:\n",
    "                        res.append((strand,item))\n",
    "            if d[strand]=='LR':\n",
    "                for item in self.rl_num:\n",
    "                    if (strand, item) in cross.keys() and cross[strand, item]!=0:\n",
    "                        res.append((strand,item))\n",
    "                        \n",
    "                for item in self.rr_num:\n",
    "                    if (strand, item) in cross.keys() and cross[strand, item]!=0:\n",
    "                        res.append((strand,item))\n",
    "            if d[strand]=='RL':\n",
    "                for item in self.lr_num[::-1]:\n",
    "                    if (strand, item) in cross.keys() and cross[strand, item]!=0:\n",
    "                        res.append((strand,item))\n",
    "                for item in self.ll_num[::-1]:\n",
    "                    if (strand, item) in cross.keys() and cross[strand, item]!=0:\n",
    "                        res.append((strand,item))\n",
    "            if d[strand]=='RR':\n",
    "                for item in self.lr_num[::-1]:\n",
    "                    if (strand, item) in cross.keys() and cross[strand, item]!=0:\n",
    "                        res.append((strand,item))\n",
    "                    \n",
    "        return res\n",
    "\n",
    "    def dowker_code(self):\n",
    "        all_crossings = self.list_of_crossings_pairs()   \n",
    "        list_sets = [sorted(item) for item in all_crossings]\n",
    "        d =self.sign_of_crossing()\n",
    "        cross = OrderedDict()\n",
    "        for i,item in enumerate(all_crossings):\n",
    "            cross[tuple(sorted(item))]=[]\n",
    "\n",
    "        for i,item in enumerate(all_crossings):\n",
    "            if (i+1)%2==0 and d[item]==1:\n",
    "                cross[tuple(sorted(item))].append(-(i+1))\n",
    "            elif (i+1)%2==0 and d[item]==-1:\n",
    "                cross[tuple(sorted(item))].append(i+1)\n",
    "            elif (i+1)%2 ==1:\n",
    "                cross[tuple(sorted(item))].append(i+1)\n",
    "                \n",
    "        cv = cross.values()\n",
    "        cv_sorted=[odd_order(item) for item in cv]    \n",
    "        cvs = sorted(cv_sorted)\n",
    "        dowker = [item[1] for item in cvs]\n",
    "        \n",
    "        return np.array(dowker)\n",
    "    \n",
    "    def convert_to_braid(self):\n",
    "        self.ll_copy, self.lr_copy, self.rl_copy, self.rr_copy = self.get_list_numerical_pairs()\n",
    "        self.remove_LR_RR_intersections()\n",
    "        self.remove_LL_RL_intersections()\n",
    "        print self.ll_copy, self.lr_copy, self.rl_copy, self.rr_copy\n",
    "        self.remove_LR_RL_intersections()\n",
    "        print self.ll_copy, self.lr_copy, self.rl_copy, self.rr_copy\n",
    "\n",
    "        self.braid = self.permut_LR_RR+self.permut_LL_RL+self.permut_LR_RL\n",
    "        return self\n",
    "    \n",
    "    def remove_LR_RR_intersections(self):\n",
    "        #self.ll_copy, self.lr_copy, self.rl_copy, self.rr_copy = self.get_list_numerical_pairs()\n",
    "        self.permut_LR_RR =[]\n",
    "        if len(self.rr_copy)==0 or len(self.lr_copy)==0:\n",
    "            return self\n",
    "    \n",
    "        self.max_lr = max([end(pair) for pair in self.lr_copy])\n",
    "        self.min_rr = min([end(pair) for pair in self.rr_copy])\n",
    "    \n",
    "        while self.min_rr<self.max_lr:\n",
    "            self.move_left_lr_rr()\n",
    "    \n",
    "        return self\n",
    "\n",
    "    def move_left_lr_rr(self):\n",
    "        for i,item_lr in enumerate(self.lr_copy):\n",
    "            for j,item_rr in enumerate(self.rr_copy):\n",
    "                if end(item_lr)==end(item_rr)+1:\n",
    "                    self.lr_copy[i]=(start(item_lr), end(item_lr)-1)\n",
    "                    self.rr_copy[j]=(start(item_rr), end(item_rr)+1)\n",
    "                    self.permut_LR_RR.append(end(item_rr))\n",
    "                    self.max_lr = max([end(pair) for pair in self.lr_copy])\n",
    "                    self.min_rr = min([end(pair) for pair in self.rr_copy])\n",
    "                    return self\n",
    "        return self\n",
    "    \n",
    "    def remove_LL_RL_intersections(self):\n",
    "        #self.ll_copy, self.lr_copy, self.rl_copy, self.rr_copy = self.get_list_numerical_pairs()\n",
    "        self.permut_LL_RL =[]\n",
    "        if len(self.ll_copy)==0 or len(self.rl_copy)==0:\n",
    "            return self\n",
    "    \n",
    "        self.max_ll = max([end(pair) for pair in self.ll_copy])\n",
    "        self.min_rl = min([end(pair) for pair in self.rl_copy])\n",
    "    \n",
    "        while self.min_rl<self.max_ll:\n",
    "            self.move_right_ll_rl()\n",
    "    \n",
    "        return self\n",
    "\n",
    "    def move_right_ll_rl(self):\n",
    "        for i,item_ll in enumerate(self.ll_copy):\n",
    "            for j,item_rl in enumerate(self.rl_copy):\n",
    "                if end(item_ll)==end_item(rl)+1:\n",
    "                    self.ll_copy[i]=(start(item_ll), end(item_ll)-1)\n",
    "                    self.rl_copy[j]=(start(item_rr), end(item_rr)+1)\n",
    "                    self.permut_LL_RL.append(end(item_rl))\n",
    "                    self.max_ll = max([end(pair) for pair in self.ll_copy])\n",
    "                    self.min_rl = min([end(pair) for pair in self.rl_copy])\n",
    "                    return self\n",
    "        return self\n",
    "    \n",
    "    def remove_LR_RL_intersections(self):\n",
    "        #self.ll_copy, self.lr_copy, self.rl_copy, self.rr_copy = self.get_list_numerical_pairs()\n",
    "        self.permut_LR_RL =[]\n",
    "        if len(self.lr_copy)==0 or len(self.rl_copy)==0:\n",
    "            return self\n",
    "    \n",
    "        self.max_lr = max([end(pair) for pair in self.lr_copy])\n",
    "        self.min_rl = min([end(pair) for pair in self.rl_copy])\n",
    "    \n",
    "        while self.min_rl<self.max_lr:\n",
    "            self.move_left_lr_rl()\n",
    "    \n",
    "        return self\n",
    "\n",
    "    def move_left_lr_rl(self):\n",
    "        for i,item_lr in enumerate(self.lr_copy):\n",
    "            for j,item_rl in enumerate(self.rl_copy):\n",
    "                if end(item_lr)==end(item_rl)+1:\n",
    "                    self.lr_copy[i]=(start(item_lr), end(item_lr)-1)\n",
    "                    self.rl_copy[j]=(start(item_rl), end(item_rl)+1)\n",
    "                    self.permut_LR_RL.append(end(item_rl))\n",
    "                    #if start(self.lr_copy[i])==end(self.lr_copy[i]):\n",
    "                    #    self.lr_copy.pop(i)\n",
    "                    #if len(self.lr_copy)==0:\n",
    "                    #    self.max_lr=0\n",
    "                    #    self.min_rl=1\n",
    "                    #    return self\n",
    "                    self.max_lr = max([end(pair) for pair in self.lr_copy])\n",
    "                    self.min_rl = min([end(pair) for pair in self.rl_copy])\n",
    "                    return self\n",
    "        return self\n",
    "    \n",
    "    \n",
    "if __name__ == '__main__':\n",
    "    knot_string = 'LRLRRRLRRR'\n",
    "    lk = LorenzKnot(knot_string)\n",
    "    knot_code = str(lk.dowker_code())\n",
    "    print \"The Lorenz Knot with word \", knot_string, \" has Dowker code \\n\",  knot_code \n",
    "    lk.convert_to_braid()\n",
    "    print lk.braid"
   ]
  },
  {
   "cell_type": "code",
   "execution_count": 52,
   "metadata": {
    "ExecuteTime": {
     "end_time": "2018-06-02T19:56:41.322136Z",
     "start_time": "2018-06-02T19:56:41.316415Z"
    },
    "collapsed": true
   },
   "outputs": [],
   "source": [
    "lk3 = LorenzKnot('LRLRRRLRRR')"
   ]
  },
  {
   "cell_type": "code",
   "execution_count": 53,
   "metadata": {},
   "outputs": [
    {
     "data": {
      "text/plain": [
       "<__main__.LorenzKnot instance at 0x7fca089f2098>"
      ]
     },
     "execution_count": 53,
     "metadata": {},
     "output_type": "execute_result"
    }
   ],
   "source": [
    "lk3.convert_to_braid()"
   ]
  },
  {
   "cell_type": "code",
   "execution_count": 61,
   "metadata": {},
   "outputs": [
    {
     "data": {
      "text/plain": [
       "array([5, 4, 8, 7, 6, 5, 9, 8, 7, 6, 3, 2, 1, 4, 3, 2, 5, 4, 3])"
      ]
     },
     "execution_count": 61,
     "metadata": {},
     "output_type": "execute_result"
    }
   ],
   "source": [
    "import numpy as np\n",
    "a = np.array([4, 3, 7, 6, 5, 4, 8, 7, 6, 5, 2, 1, 0, 3, 2, 1, 4, 3, 2])+1\n",
    "a"
   ]
  },
  {
   "cell_type": "code",
   "execution_count": null,
   "metadata": {
    "collapsed": true
   },
   "outputs": [],
   "source": []
  },
  {
   "cell_type": "code",
   "execution_count": 54,
   "metadata": {},
   "outputs": [
    {
     "data": {
      "text/plain": [
       "[4, 3, 7, 6, 5, 4, 8, 7, 6, 5, 2, 1, 0, 2, 1, 0, 2, 1, 0]"
      ]
     },
     "execution_count": 54,
     "metadata": {},
     "output_type": "execute_result"
    }
   ],
   "source": [
    "lk3.braid"
   ]
  },
  {
   "cell_type": "code",
   "execution_count": 26,
   "metadata": {
    "ExecuteTime": {
     "end_time": "2018-06-02T19:56:42.501647Z",
     "start_time": "2018-06-02T19:56:42.477208Z"
    }
   },
   "outputs": [
    {
     "data": {
      "text/plain": [
       "array([ 38,   8,  20, -26,  36,   6,  18,  16, -30, -28, -10,  -2,  22,\n",
       "        34,  32, -14, -12,  -4, -24])"
      ]
     },
     "execution_count": 26,
     "metadata": {},
     "output_type": "execute_result"
    }
   ],
   "source": [
    "lk3.dowker_code()"
   ]
  },
  {
   "cell_type": "code",
   "execution_count": 27,
   "metadata": {},
   "outputs": [
    {
     "data": {
      "text/plain": [
       "<__main__.LorenzKnot instance at 0x7fca08b0c5f0>"
      ]
     },
     "execution_count": 27,
     "metadata": {},
     "output_type": "execute_result"
    }
   ],
   "source": [
    "lk3.remove_LR_RR_intersections()"
   ]
  },
  {
   "cell_type": "code",
   "execution_count": 36,
   "metadata": {},
   "outputs": [
    {
     "data": {
      "text/plain": [
       "[]"
      ]
     },
     "execution_count": 36,
     "metadata": {},
     "output_type": "execute_result"
    }
   ],
   "source": [
    "lk3.ll_copy"
   ]
  },
  {
   "cell_type": "code",
   "execution_count": 29,
   "metadata": {},
   "outputs": [
    {
     "data": {
      "text/plain": [
       "[4, 3, 7, 6, 5, 4, 8, 7, 6, 5]"
      ]
     },
     "execution_count": 29,
     "metadata": {},
     "output_type": "execute_result"
    }
   ],
   "source": [
    "lk3.permut_LR_RR"
   ]
  },
  {
   "cell_type": "code",
   "execution_count": 30,
   "metadata": {},
   "outputs": [
    {
     "data": {
      "text/plain": [
       "([],\n",
       " [(0, 5), (1, 8), (2, 9)],\n",
       " [(3, 0), (4, 1), (5, 2)],\n",
       " [(6, 3), (7, 4), (8, 6), (9, 7)])"
      ]
     },
     "execution_count": 30,
     "metadata": {},
     "output_type": "execute_result"
    }
   ],
   "source": [
    "lk3.get_list_numerical_pairs()"
   ]
  },
  {
   "cell_type": "code",
   "execution_count": null,
   "metadata": {
    "collapsed": true
   },
   "outputs": [],
   "source": [
    "def remove_LR_RR_intersections(self):\n",
    "    #self.ll_copy, self.lr_copy, self.rl_copy, self.rr_copy = self.get_list_numerical_pairs()\n",
    "    self.permut_LR_RR =[]\n",
    "    if len(self.rr_copy)==0 or len(self.lr_copy)==0:\n",
    "        return self\n",
    "    \n",
    "    self.max_lr = max([end(pair) for pair in self.lr_copy])\n",
    "    self.min_rr = min([end(pair) for pair in self.rr_copy])\n",
    "    \n",
    "    while self.min_rr<self.max_lr:\n",
    "        self.move_left_lr_rr()\n",
    "    \n",
    "    return self\n",
    "\n",
    "def move_left_lr_rr(self):\n",
    "    for i,item_lr in enumerate(self.lr_copy):\n",
    "        for j,item_rr in enumerate(self.rr_copy):\n",
    "            if end(item_lr)=end_item(rr)+1:\n",
    "                self.lr_copy[i]=(start(item_lr), end(item_lr)-1)\n",
    "                self.rr_copy[j]=(start(item_rr), end(item_rr)+1)\n",
    "                self.permut_LR_RR.append(j)\n",
    "                self.max_lr = max([end(pair) for pair in self.lr_copy])\n",
    "                self.min_rr = min([end(pair) for pair in self.rr_copy])\n",
    "                return self\n",
    "    return self\n",
    "            "
   ]
  },
  {
   "cell_type": "code",
   "execution_count": null,
   "metadata": {
    "collapsed": true
   },
   "outputs": [],
   "source": [
    "def convert_to_braid(self):\n",
    "    self.ll_copy, self.lr_copy, self.rl_copy, self.rr_copy = self.get_list_numerical_pairs()\n",
    "    self.remove_LR_RR_intersections()\n",
    "    self.remove_LL_RL_intersections()\n",
    "    pass\n",
    "\n",
    "\n",
    "def remove_LR_RL_intersections(self):\n",
    "    #self.ll_copy, self.lr_copy, self.rl_copy, self.rr_copy = self.get_list_numerical_pairs()\n",
    "    self.permut_LR_RL =[]\n",
    "    if len(self.lr_copy)==0 or len(self.rl_copy)==0:\n",
    "        return self\n",
    "    \n",
    "    self.max_lr = max([end(pair) for pair in self.lr_copy])\n",
    "    self.min_rl = min([end(pair) for pair in self.rl_copy])\n",
    "    \n",
    "    while self.min_rl<self.max_lr:\n",
    "        self.move_left_lr_rl()\n",
    "    \n",
    "    return self\n",
    "\n",
    "def move_left_lr_rl(self):\n",
    "    for i,item_lr in enumerate(self.lr_copy):\n",
    "        for j,item_rl in enumerate(self.rl_copy):\n",
    "            if end(item_lr)=end_item(rl)+1:\n",
    "                self.lr_copy[i]=(start(item_lr), end(item_lr)-1)\n",
    "                self.rl_copy[j]=(start(item_rl), end(item_rl)+1)\n",
    "                self.permut_LR_RL.append(j)\n",
    "                self.max_lr = max([end(pair) for pair in self.lr_copy])\n",
    "                self.min_rl = min([end(pair) for pair in self.rl_copy])\n",
    "                return self\n",
    "    return self"
   ]
  },
  {
   "cell_type": "code",
   "execution_count": 10,
   "metadata": {},
   "outputs": [
    {
     "data": {
      "text/plain": [
       "0"
      ]
     },
     "execution_count": 10,
     "metadata": {},
     "output_type": "execute_result"
    }
   ],
   "source": [
    "len(lk.get_list_numerical_pairs()[0])"
   ]
  },
  {
   "cell_type": "code",
   "execution_count": 1,
   "metadata": {
    "ExecuteTime": {
     "end_time": "2018-06-12T15:50:05.302243Z",
     "start_time": "2018-06-12T15:50:05.097283Z"
    }
   },
   "outputs": [
    {
     "ename": "ImportError",
     "evalue": "No module named snappy",
     "output_type": "error",
     "traceback": [
      "\u001b[0;31m---------------------------------------------------------------------------\u001b[0m",
      "\u001b[0;31mImportError\u001b[0m                               Traceback (most recent call last)",
      "\u001b[0;32m<ipython-input-1-710a7f18823c>\u001b[0m in \u001b[0;36m<module>\u001b[0;34m()\u001b[0m\n\u001b[0;32m----> 1\u001b[0;31m \u001b[0;32mimport\u001b[0m \u001b[0msnappy\u001b[0m\u001b[0;34m\u001b[0m\u001b[0m\n\u001b[0m",
      "\u001b[0;31mImportError\u001b[0m: No module named snappy"
     ]
    }
   ],
   "source": [
    "import snappy\n"
   ]
  },
  {
   "cell_type": "code",
   "execution_count": null,
   "metadata": {},
   "outputs": [],
   "source": []
  }
 ],
 "metadata": {
  "hide_input": false,
  "kernelspec": {
   "display_name": "Python 2",
   "language": "python",
   "name": "python2"
  },
  "language_info": {
   "codemirror_mode": {
    "name": "ipython",
    "version": 2
   },
   "file_extension": ".py",
   "mimetype": "text/x-python",
   "name": "python",
   "nbconvert_exporter": "python",
   "pygments_lexer": "ipython2",
   "version": "2.7.12"
  },
  "latex_envs": {
   "LaTeX_envs_menu_present": true,
   "autocomplete": true,
   "bibliofile": "biblio.bib",
   "cite_by": "apalike",
   "current_citInitial": 1,
   "eqLabelWithNumbers": true,
   "eqNumInitial": 1,
   "hotkeys": {
    "equation": "Ctrl-E",
    "itemize": "Ctrl-I"
   },
   "labels_anchors": false,
   "latex_user_defs": false,
   "report_style_numbering": false,
   "user_envs_cfg": false
  },
  "toc": {
   "nav_menu": {},
   "number_sections": true,
   "sideBar": false,
   "skip_h1_title": false,
   "toc_cell": true,
   "toc_position": {},
   "toc_section_display": "block",
   "toc_window_display": false
  }
 },
 "nbformat": 4,
 "nbformat_minor": 1
}
